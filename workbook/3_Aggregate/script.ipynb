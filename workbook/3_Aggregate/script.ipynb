{
 "cells": [
  {
   "cell_type": "markdown",
   "metadata": {
    "vscode": {
     "languageId": "plaintext"
    }
   },
   "source": [
    "# Aggregate data to produce rankings"
   ]
  },
  {
   "cell_type": "markdown",
   "metadata": {},
   "source": [
    "## Load data"
   ]
  },
  {
   "cell_type": "code",
   "execution_count": 1,
   "metadata": {},
   "outputs": [
    {
     "data": {
      "text/plain": [
       "'../../data/curva_pbc_uof/curva_pbc_uof_20241201.1.parquet'"
      ]
     },
     "execution_count": 1,
     "metadata": {},
     "output_type": "execute_result"
    }
   ],
   "source": [
    "path = '../../data/curva_pbc_uof/curva_pbc_uof_20241201.1.parquet'\n",
    "path"
   ]
  },
  {
   "cell_type": "code",
   "execution_count": 2,
   "metadata": {},
   "outputs": [
    {
     "data": {
      "text/html": [
       "<div>\n",
       "<style scoped>\n",
       "    .dataframe tbody tr th:only-of-type {\n",
       "        vertical-align: middle;\n",
       "    }\n",
       "\n",
       "    .dataframe tbody tr th {\n",
       "        vertical-align: top;\n",
       "    }\n",
       "\n",
       "    .dataframe thead th {\n",
       "        text-align: right;\n",
       "    }\n",
       "</style>\n",
       "<table border=\"1\" class=\"dataframe\">\n",
       "  <thead>\n",
       "    <tr style=\"text-align: right;\">\n",
       "      <th></th>\n",
       "      <th>hour</th>\n",
       "      <th>date</th>\n",
       "      <th>country</th>\n",
       "      <th>unit</th>\n",
       "      <th>offer_type</th>\n",
       "      <th>energy</th>\n",
       "      <th>price</th>\n",
       "      <th>cleared</th>\n",
       "      <th>energy.cum</th>\n",
       "    </tr>\n",
       "  </thead>\n",
       "  <tbody>\n",
       "    <tr>\n",
       "      <th>0</th>\n",
       "      <td>1.0</td>\n",
       "      <td>01/12/2024</td>\n",
       "      <td>MI</td>\n",
       "      <td>TOTRM01</td>\n",
       "      <td>C</td>\n",
       "      <td>266.8</td>\n",
       "      <td>1500.00</td>\n",
       "      <td>O</td>\n",
       "      <td>266.8</td>\n",
       "    </tr>\n",
       "    <tr>\n",
       "      <th>1</th>\n",
       "      <td>1.0</td>\n",
       "      <td>01/12/2024</td>\n",
       "      <td>MI</td>\n",
       "      <td>TOTRM03</td>\n",
       "      <td>C</td>\n",
       "      <td>87.5</td>\n",
       "      <td>1500.00</td>\n",
       "      <td>O</td>\n",
       "      <td>354.3</td>\n",
       "    </tr>\n",
       "    <tr>\n",
       "      <th>...</th>\n",
       "      <td>...</td>\n",
       "      <td>...</td>\n",
       "      <td>...</td>\n",
       "      <td>...</td>\n",
       "      <td>...</td>\n",
       "      <td>...</td>\n",
       "      <td>...</td>\n",
       "      <td>...</td>\n",
       "      <td>...</td>\n",
       "    </tr>\n",
       "    <tr>\n",
       "      <th>94995</th>\n",
       "      <td>24.0</td>\n",
       "      <td>01/12/2024</td>\n",
       "      <td>MI</td>\n",
       "      <td>EBRFEN</td>\n",
       "      <td>V</td>\n",
       "      <td>11.6</td>\n",
       "      <td>133.06</td>\n",
       "      <td>C</td>\n",
       "      <td>19897.2</td>\n",
       "    </tr>\n",
       "    <tr>\n",
       "      <th>94996</th>\n",
       "      <td>24.0</td>\n",
       "      <td>01/12/2024</td>\n",
       "      <td>MI</td>\n",
       "      <td>SROQ2</td>\n",
       "      <td>V</td>\n",
       "      <td>156.4</td>\n",
       "      <td>133.21</td>\n",
       "      <td>C</td>\n",
       "      <td>20053.6</td>\n",
       "    </tr>\n",
       "  </tbody>\n",
       "</table>\n",
       "<p>94997 rows × 9 columns</p>\n",
       "</div>"
      ],
      "text/plain": [
       "       hour        date country     unit offer_type  energy    price cleared  \\\n",
       "0       1.0  01/12/2024      MI  TOTRM01          C   266.8  1500.00       O   \n",
       "1       1.0  01/12/2024      MI  TOTRM03          C    87.5  1500.00       O   \n",
       "...     ...         ...     ...      ...        ...     ...      ...     ...   \n",
       "94995  24.0  01/12/2024      MI   EBRFEN          V    11.6   133.06       C   \n",
       "94996  24.0  01/12/2024      MI    SROQ2          V   156.4   133.21       C   \n",
       "\n",
       "       energy.cum  \n",
       "0           266.8  \n",
       "1           354.3  \n",
       "...           ...  \n",
       "94995     19897.2  \n",
       "94996     20053.6  \n",
       "\n",
       "[94997 rows x 9 columns]"
      ]
     },
     "execution_count": 2,
     "metadata": {},
     "output_type": "execute_result"
    }
   ],
   "source": [
    "import pandas as pd\n",
    "\n",
    "df_base = pd.read_parquet(path)\n",
    "df_base"
   ]
  },
  {
   "cell_type": "markdown",
   "metadata": {},
   "source": [
    "## Filter by cleared offers"
   ]
  },
  {
   "cell_type": "code",
   "execution_count": 3,
   "metadata": {},
   "outputs": [
    {
     "data": {
      "text/html": [
       "<div>\n",
       "<style scoped>\n",
       "    .dataframe tbody tr th:only-of-type {\n",
       "        vertical-align: middle;\n",
       "    }\n",
       "\n",
       "    .dataframe tbody tr th {\n",
       "        vertical-align: top;\n",
       "    }\n",
       "\n",
       "    .dataframe thead th {\n",
       "        text-align: right;\n",
       "    }\n",
       "</style>\n",
       "<table border=\"1\" class=\"dataframe\">\n",
       "  <thead>\n",
       "    <tr style=\"text-align: right;\">\n",
       "      <th></th>\n",
       "      <th>hour</th>\n",
       "      <th>date</th>\n",
       "      <th>country</th>\n",
       "      <th>unit</th>\n",
       "      <th>offer_type</th>\n",
       "      <th>energy</th>\n",
       "      <th>price</th>\n",
       "      <th>cleared</th>\n",
       "      <th>energy.cum</th>\n",
       "    </tr>\n",
       "  </thead>\n",
       "  <tbody>\n",
       "    <tr>\n",
       "      <th>1877</th>\n",
       "      <td>1.0</td>\n",
       "      <td>01/12/2024</td>\n",
       "      <td>MI</td>\n",
       "      <td>TOTRM02</td>\n",
       "      <td>C</td>\n",
       "      <td>99.8</td>\n",
       "      <td>1500.00</td>\n",
       "      <td>C</td>\n",
       "      <td>99.8</td>\n",
       "    </tr>\n",
       "    <tr>\n",
       "      <th>1878</th>\n",
       "      <td>1.0</td>\n",
       "      <td>01/12/2024</td>\n",
       "      <td>MI</td>\n",
       "      <td>TOTRM01</td>\n",
       "      <td>C</td>\n",
       "      <td>266.8</td>\n",
       "      <td>1500.00</td>\n",
       "      <td>C</td>\n",
       "      <td>366.6</td>\n",
       "    </tr>\n",
       "    <tr>\n",
       "      <th>...</th>\n",
       "      <td>...</td>\n",
       "      <td>...</td>\n",
       "      <td>...</td>\n",
       "      <td>...</td>\n",
       "      <td>...</td>\n",
       "      <td>...</td>\n",
       "      <td>...</td>\n",
       "      <td>...</td>\n",
       "      <td>...</td>\n",
       "    </tr>\n",
       "    <tr>\n",
       "      <th>94995</th>\n",
       "      <td>24.0</td>\n",
       "      <td>01/12/2024</td>\n",
       "      <td>MI</td>\n",
       "      <td>EBRFEN</td>\n",
       "      <td>V</td>\n",
       "      <td>11.6</td>\n",
       "      <td>133.06</td>\n",
       "      <td>C</td>\n",
       "      <td>19897.2</td>\n",
       "    </tr>\n",
       "    <tr>\n",
       "      <th>94996</th>\n",
       "      <td>24.0</td>\n",
       "      <td>01/12/2024</td>\n",
       "      <td>MI</td>\n",
       "      <td>SROQ2</td>\n",
       "      <td>V</td>\n",
       "      <td>156.4</td>\n",
       "      <td>133.21</td>\n",
       "      <td>C</td>\n",
       "      <td>20053.6</td>\n",
       "    </tr>\n",
       "  </tbody>\n",
       "</table>\n",
       "<p>40492 rows × 9 columns</p>\n",
       "</div>"
      ],
      "text/plain": [
       "       hour        date country     unit offer_type  energy    price cleared  \\\n",
       "1877    1.0  01/12/2024      MI  TOTRM02          C    99.8  1500.00       C   \n",
       "1878    1.0  01/12/2024      MI  TOTRM01          C   266.8  1500.00       C   \n",
       "...     ...         ...     ...      ...        ...     ...      ...     ...   \n",
       "94995  24.0  01/12/2024      MI   EBRFEN          V    11.6   133.06       C   \n",
       "94996  24.0  01/12/2024      MI    SROQ2          V   156.4   133.21       C   \n",
       "\n",
       "       energy.cum  \n",
       "1877         99.8  \n",
       "1878        366.6  \n",
       "...           ...  \n",
       "94995     19897.2  \n",
       "94996     20053.6  \n",
       "\n",
       "[40492 rows x 9 columns]"
      ]
     },
     "execution_count": 3,
     "metadata": {},
     "output_type": "execute_result"
    }
   ],
   "source": [
    "df_base = df_base.query('cleared == \"C\"')\n",
    "df_base"
   ]
  },
  {
   "cell_type": "markdown",
   "metadata": {},
   "source": [
    "## Unit with most offered energy"
   ]
  },
  {
   "cell_type": "code",
   "execution_count": 4,
   "metadata": {},
   "outputs": [
    {
     "data": {
      "text/plain": [
       "unit\n",
       "ABA1        2.4\n",
       "ABA2        2.4\n",
       "           ... \n",
       "ZRMTC01    15.3\n",
       "ZULUC01     7.9\n",
       "Name: energy, Length: 2145, dtype: float64"
      ]
     },
     "execution_count": 4,
     "metadata": {},
     "output_type": "execute_result"
    }
   ],
   "source": [
    "result = df_base.groupby(by='unit').energy.sum()\n",
    "result"
   ]
  },
  {
   "cell_type": "code",
   "execution_count": 10,
   "metadata": {},
   "outputs": [
    {
     "data": {
      "text/plain": [
       "unit\n",
       "EGEDC01    18764.7\n",
       "VAN2       18792.0\n",
       "            ...   \n",
       "MIEU       58923.0\n",
       "ENDE01     75004.6\n",
       "Name: energy, Length: 10, dtype: float64"
      ]
     },
     "execution_count": 10,
     "metadata": {},
     "output_type": "execute_result"
    }
   ],
   "source": [
    "ranking = result.sort_values().tail(10)\n",
    "ranking"
   ]
  },
  {
   "cell_type": "code",
   "execution_count": 11,
   "metadata": {},
   "outputs": [
    {
     "data": {
      "text/plain": [
       "<Axes: ylabel='unit'>"
      ]
     },
     "execution_count": 11,
     "metadata": {},
     "output_type": "execute_result"
    },
    {
     "data": {
      "image/png": "[encoded data removed]",
      "text/plain": [
       "<Figure size 640x480 with 1 Axes>"
      ]
     },
     "metadata": {},
     "output_type": "display_data"
    }
   ],
   "source": [
    "ranking.plot(kind='barh')"
   ]
  },
  {
   "cell_type": "markdown",
   "metadata": {},
   "source": [
    "### Top 10 units by hour"
   ]
  },
  {
   "cell_type": "code",
   "execution_count": 7,
   "metadata": {},
   "outputs": [
    {
     "data": {
      "text/plain": [
       "Index(['ENDE01', 'MIEU', 'EDPSVD1', 'GEDPGC2', 'GGNCOC1', 'ICLIC01', 'EE21C01',\n",
       "       'IGESC2', 'VAN2', 'EGEDC01'],\n",
       "      dtype='object', name='unit')"
      ]
     },
     "execution_count": 7,
     "metadata": {},
     "output_type": "execute_result"
    }
   ],
   "source": [
    "ranking.index"
   ]
  },
  {
   "cell_type": "code",
   "execution_count": 8,
   "metadata": {},
   "outputs": [
    {
     "data": {
      "text/html": [
       "<div>\n",
       "<style scoped>\n",
       "    .dataframe tbody tr th:only-of-type {\n",
       "        vertical-align: middle;\n",
       "    }\n",
       "\n",
       "    .dataframe tbody tr th {\n",
       "        vertical-align: top;\n",
       "    }\n",
       "\n",
       "    .dataframe thead th {\n",
       "        text-align: right;\n",
       "    }\n",
       "</style>\n",
       "<table border=\"1\" class=\"dataframe\">\n",
       "  <thead>\n",
       "    <tr style=\"text-align: right;\">\n",
       "      <th></th>\n",
       "      <th>hour</th>\n",
       "      <th>date</th>\n",
       "      <th>country</th>\n",
       "      <th>unit</th>\n",
       "      <th>offer_type</th>\n",
       "      <th>energy</th>\n",
       "      <th>price</th>\n",
       "      <th>cleared</th>\n",
       "    </tr>\n",
       "  </thead>\n",
       "  <tbody>\n",
       "    <tr>\n",
       "      <th>1886</th>\n",
       "      <td>1.0</td>\n",
       "      <td>01/12/2024</td>\n",
       "      <td>MI</td>\n",
       "      <td>GEDPGC2</td>\n",
       "      <td>C</td>\n",
       "      <td>1761.2</td>\n",
       "      <td>501.00</td>\n",
       "      <td>C</td>\n",
       "    </tr>\n",
       "    <tr>\n",
       "      <th>1893</th>\n",
       "      <td>1.0</td>\n",
       "      <td>01/12/2024</td>\n",
       "      <td>MI</td>\n",
       "      <td>IGESC2</td>\n",
       "      <td>C</td>\n",
       "      <td>874.3</td>\n",
       "      <td>500.00</td>\n",
       "      <td>C</td>\n",
       "    </tr>\n",
       "    <tr>\n",
       "      <th>...</th>\n",
       "      <td>...</td>\n",
       "      <td>...</td>\n",
       "      <td>...</td>\n",
       "      <td>...</td>\n",
       "      <td>...</td>\n",
       "      <td>...</td>\n",
       "      <td>...</td>\n",
       "      <td>...</td>\n",
       "    </tr>\n",
       "    <tr>\n",
       "      <th>94408</th>\n",
       "      <td>24.0</td>\n",
       "      <td>01/12/2024</td>\n",
       "      <td>MI</td>\n",
       "      <td>EDPSVD1</td>\n",
       "      <td>V</td>\n",
       "      <td>1116.7</td>\n",
       "      <td>-4.00</td>\n",
       "      <td>C</td>\n",
       "    </tr>\n",
       "    <tr>\n",
       "      <th>94610</th>\n",
       "      <td>24.0</td>\n",
       "      <td>01/12/2024</td>\n",
       "      <td>MI</td>\n",
       "      <td>EDPSVD1</td>\n",
       "      <td>V</td>\n",
       "      <td>279.2</td>\n",
       "      <td>-0.03</td>\n",
       "      <td>C</td>\n",
       "    </tr>\n",
       "  </tbody>\n",
       "</table>\n",
       "<p>285 rows × 8 columns</p>\n",
       "</div>"
      ],
      "text/plain": [
       "       hour        date country     unit offer_type  energy   price cleared\n",
       "1886    1.0  01/12/2024      MI  GEDPGC2          C  1761.2  501.00       C\n",
       "1893    1.0  01/12/2024      MI   IGESC2          C   874.3  500.00       C\n",
       "...     ...         ...     ...      ...        ...     ...     ...     ...\n",
       "94408  24.0  01/12/2024      MI  EDPSVD1          V  1116.7   -4.00       C\n",
       "94610  24.0  01/12/2024      MI  EDPSVD1          V   279.2   -0.03       C\n",
       "\n",
       "[285 rows x 8 columns]"
      ]
     },
     "execution_count": 8,
     "metadata": {},
     "output_type": "execute_result"
    }
   ],
   "source": [
    "df = df_base.query('unit == @ranking.index.tolist()')\n",
    "df"
   ]
  },
  {
   "cell_type": "code",
   "execution_count": 9,
   "metadata": {},
   "outputs": [
    {
     "data": {
      "text/plain": [
       "unit     hour\n",
       "EDPSVD1  1.0     2222.3\n",
       "         2.0     2267.2\n",
       "                  ...  \n",
       "VAN2     23.0     783.0\n",
       "         24.0     783.0\n",
       "Name: energy, Length: 237, dtype: float64"
      ]
     },
     "execution_count": 9,
     "metadata": {},
     "output_type": "execute_result"
    }
   ],
   "source": [
    "result = df.groupby(by=['unit', 'hour']).energy.sum()\n",
    "result"
   ]
  },
  {
   "cell_type": "code",
   "execution_count": 10,
   "metadata": {},
   "outputs": [
    {
     "data": {
      "text/html": [
       "<div>\n",
       "<style scoped>\n",
       "    .dataframe tbody tr th:only-of-type {\n",
       "        vertical-align: middle;\n",
       "    }\n",
       "\n",
       "    .dataframe tbody tr th {\n",
       "        vertical-align: top;\n",
       "    }\n",
       "\n",
       "    .dataframe thead th {\n",
       "        text-align: right;\n",
       "    }\n",
       "</style>\n",
       "<table border=\"1\" class=\"dataframe\">\n",
       "  <thead>\n",
       "    <tr style=\"text-align: right;\">\n",
       "      <th></th>\n",
       "      <th>unit</th>\n",
       "      <th>hour</th>\n",
       "      <th>energy</th>\n",
       "    </tr>\n",
       "  </thead>\n",
       "  <tbody>\n",
       "    <tr>\n",
       "      <th>0</th>\n",
       "      <td>EDPSVD1</td>\n",
       "      <td>1.0</td>\n",
       "      <td>2222.3</td>\n",
       "    </tr>\n",
       "    <tr>\n",
       "      <th>1</th>\n",
       "      <td>EDPSVD1</td>\n",
       "      <td>2.0</td>\n",
       "      <td>2267.2</td>\n",
       "    </tr>\n",
       "    <tr>\n",
       "      <th>...</th>\n",
       "      <td>...</td>\n",
       "      <td>...</td>\n",
       "      <td>...</td>\n",
       "    </tr>\n",
       "    <tr>\n",
       "      <th>235</th>\n",
       "      <td>VAN2</td>\n",
       "      <td>23.0</td>\n",
       "      <td>783.0</td>\n",
       "    </tr>\n",
       "    <tr>\n",
       "      <th>236</th>\n",
       "      <td>VAN2</td>\n",
       "      <td>24.0</td>\n",
       "      <td>783.0</td>\n",
       "    </tr>\n",
       "  </tbody>\n",
       "</table>\n",
       "<p>237 rows × 3 columns</p>\n",
       "</div>"
      ],
      "text/plain": [
       "        unit  hour  energy\n",
       "0    EDPSVD1   1.0  2222.3\n",
       "1    EDPSVD1   2.0  2267.2\n",
       "..       ...   ...     ...\n",
       "235     VAN2  23.0   783.0\n",
       "236     VAN2  24.0   783.0\n",
       "\n",
       "[237 rows x 3 columns]"
      ]
     },
     "execution_count": 10,
     "metadata": {},
     "output_type": "execute_result"
    }
   ],
   "source": [
    "df_result = result.reset_index()\n",
    "df_result"
   ]
  },
  {
   "cell_type": "code",
   "execution_count": 11,
   "metadata": {},
   "outputs": [
    {
     "data": {
      "application/vnd.plotly.v1+json": {
       "config": {
        "plotlyServerURL": "https://plot.ly"
       },
       "data": [
        {
         "hovertemplate": "unit=EDPSVD1<br>hour=%{x}<br>energy=%{y}<extra></extra>",
         "legendgroup": "EDPSVD1",
         "line": {
          "color": "#636efa",
          "dash": "solid",
          "shape": "hv"
         },
         "marker": {
          "symbol": "circle"
         },
         "mode": "lines",
         "name": "EDPSVD1",
         "orientation": "v",
         "showlegend": true,
         "type": "scatter",
         "x": [
          1,
          2,
          3,
          4,
          5,
          6,
          7,
          8,
          9,
          10,
          11,
          12,
          13,
          14,
          15,
          16,
          17,
          18,
          19,
          20,
          21,
          22,
          23,
          24
         ],
         "xaxis": "x",
         "y": [
          2222.3,
          2267.2,
          2236.6,
          2249.2000000000003,
          2239,
          2206.9,
          2173.6,
          2179.2000000000003,
          2174.6,
          2134.6,
          2084.2000000000003,
          2029.6999999999998,
          1924.8,
          1760.6999999999998,
          1571.8000000000002,
          1461.6,
          1437.8000000000002,
          1440.6,
          1457.6,
          1500.4,
          1536.1000000000001,
          1515,
          1474.4,
          1395.9
         ],
         "yaxis": "y"
        },
        {
         "hovertemplate": "unit=EE21C01<br>hour=%{x}<br>energy=%{y}<extra></extra>",
         "legendgroup": "EE21C01",
         "line": {
          "color": "#EF553B",
          "dash": "solid",
          "shape": "hv"
         },
         "marker": {
          "symbol": "circle"
         },
         "mode": "lines",
         "name": "EE21C01",
         "orientation": "v",
         "showlegend": true,
         "type": "scatter",
         "x": [
          1,
          2,
          3,
          4,
          5,
          6,
          7,
          8,
          9,
          10,
          11,
          12,
          13,
          14,
          15,
          16,
          17,
          18,
          19,
          20,
          21,
          22,
          23,
          24
         ],
         "xaxis": "x",
         "y": [
          790,
          661.8,
          575.2,
          527.4,
          504.7,
          499.3,
          518.9,
          563,
          684,
          882.1,
          1014,
          1053.3,
          1070.3,
          1142,
          1160.7,
          1047.2,
          973.5,
          989.1,
          1116.4,
          1236,
          1324.7,
          1293.8,
          1120.4,
          923.7
         ],
         "yaxis": "y"
        },
        {
         "hovertemplate": "unit=EGEDC01<br>hour=%{x}<br>energy=%{y}<extra></extra>",
         "legendgroup": "EGEDC01",
         "line": {
          "color": "#00cc96",
          "dash": "solid",
          "shape": "hv"
         },
         "marker": {
          "symbol": "circle"
         },
         "mode": "lines",
         "name": "EGEDC01",
         "orientation": "v",
         "showlegend": true,
         "type": "scatter",
         "x": [
          1,
          2,
          3,
          4,
          5,
          6,
          7,
          8,
          9,
          10,
          11,
          12,
          13,
          14,
          15,
          16,
          17,
          18,
          19,
          20,
          21,
          22,
          23,
          24
         ],
         "xaxis": "x",
         "y": [
          763.7,
          759.0999999999999,
          751.7,
          747.5999999999999,
          749.3,
          749.9000000000001,
          753.8,
          760.8,
          763.4000000000001,
          751.7,
          771.0999999999999,
          763,
          758.5,
          761.5,
          767.0999999999999,
          778.9000000000001,
          790.3,
          791.5999999999999,
          803.8,
          813.5999999999999,
          815.9000000000001,
          837.4000000000001,
          868.5999999999999,
          892.4000000000001
         ],
         "yaxis": "y"
        },
        {
         "hovertemplate": "unit=ENDE01<br>hour=%{x}<br>energy=%{y}<extra></extra>",
         "legendgroup": "ENDE01",
         "line": {
          "color": "#ab63fa",
          "dash": "solid",
          "shape": "hv"
         },
         "marker": {
          "symbol": "circle"
         },
         "mode": "lines",
         "name": "ENDE01",
         "orientation": "v",
         "showlegend": true,
         "type": "scatter",
         "x": [
          1,
          2,
          3,
          4,
          5,
          6,
          7,
          8,
          9,
          10,
          11,
          12,
          13,
          14,
          15,
          16,
          17,
          18,
          19,
          20,
          21,
          22,
          23,
          24
         ],
         "xaxis": "x",
         "y": [
          3009.6,
          2746.7,
          2676.8,
          2597.5,
          2589.8,
          2604.4,
          2737,
          2819.1,
          2923.4,
          3008.9,
          3105.1,
          3057.5,
          3046.1,
          3193.2,
          3082.7,
          3025,
          3168.2,
          3127,
          3647.3,
          3880.6,
          4074.9,
          3975.8,
          3615.2,
          3292.8
         ],
         "yaxis": "y"
        },
        {
         "hovertemplate": "unit=GEDPGC2<br>hour=%{x}<br>energy=%{y}<extra></extra>",
         "legendgroup": "GEDPGC2",
         "line": {
          "color": "#FFA15A",
          "dash": "solid",
          "shape": "hv"
         },
         "marker": {
          "symbol": "circle"
         },
         "mode": "lines",
         "name": "GEDPGC2",
         "orientation": "v",
         "showlegend": true,
         "type": "scatter",
         "x": [
          1,
          2,
          3,
          4,
          5,
          6,
          7,
          8,
          9,
          10,
          11,
          12,
          13,
          14,
          15,
          16,
          17,
          18,
          19,
          20,
          21,
          22,
          23,
          24
         ],
         "xaxis": "x",
         "y": [
          1761.2,
          1576.3,
          1425.7,
          1309.1,
          1251.9,
          1227.7,
          1221.6,
          1257.8,
          1326.4,
          1533,
          1724.9,
          1883,
          2020.7,
          2101.2,
          1979.7,
          1897.9,
          1861.6,
          1885.3,
          2098,
          2300.9,
          2412.7,
          2344.4,
          2193.1,
          1946
         ],
         "yaxis": "y"
        },
        {
         "hovertemplate": "unit=GGNCOC1<br>hour=%{x}<br>energy=%{y}<extra></extra>",
         "legendgroup": "GGNCOC1",
         "line": {
          "color": "#19d3f3",
          "dash": "solid",
          "shape": "hv"
         },
         "marker": {
          "symbol": "circle"
         },
         "mode": "lines",
         "name": "GGNCOC1",
         "orientation": "v",
         "showlegend": true,
         "type": "scatter",
         "x": [
          1,
          2,
          3,
          4,
          5,
          6,
          7,
          8,
          9,
          10,
          11,
          12,
          13,
          14,
          15,
          16,
          17,
          18,
          19,
          20,
          21,
          22,
          23,
          24
         ],
         "xaxis": "x",
         "y": [
          1142,
          943.6,
          841.6,
          757.1,
          721.7,
          723.2,
          763.2,
          815.4,
          935.5,
          1080.3,
          1170.2,
          1188.6,
          1228.4,
          1373.9,
          1467.2,
          1371.8,
          1386.2,
          1484.3,
          1620.2,
          1775.9,
          1948.7,
          1971.4,
          1746.8,
          1462.6
         ],
         "yaxis": "y"
        },
        {
         "hovertemplate": "unit=ICLIC01<br>hour=%{x}<br>energy=%{y}<extra></extra>",
         "legendgroup": "ICLIC01",
         "line": {
          "color": "#FF6692",
          "dash": "solid",
          "shape": "hv"
         },
         "marker": {
          "symbol": "circle"
         },
         "mode": "lines",
         "name": "ICLIC01",
         "orientation": "v",
         "showlegend": true,
         "type": "scatter",
         "x": [
          1,
          2,
          3,
          4,
          5,
          6,
          7,
          8,
          9,
          10,
          11,
          12,
          13,
          14,
          15,
          16,
          17,
          18,
          19,
          20,
          21
         ],
         "xaxis": "x",
         "y": [
          579.3,
          320.6,
          177.2,
          76.3,
          35.8,
          53.6,
          174.8,
          192.1,
          257.1,
          300.3,
          1922.5,
          1984,
          1908,
          2007.9,
          1982.4,
          1780.5,
          1303.5,
          1499.5,
          2012.8,
          1734.3,
          1830.9
         ],
         "yaxis": "y"
        },
        {
         "hovertemplate": "unit=IGESC2<br>hour=%{x}<br>energy=%{y}<extra></extra>",
         "legendgroup": "IGESC2",
         "line": {
          "color": "#B6E880",
          "dash": "solid",
          "shape": "hv"
         },
         "marker": {
          "symbol": "circle"
         },
         "mode": "lines",
         "name": "IGESC2",
         "orientation": "v",
         "showlegend": true,
         "type": "scatter",
         "x": [
          1,
          2,
          3,
          4,
          5,
          6,
          7,
          8,
          9,
          10,
          11,
          12,
          13,
          14,
          15,
          16,
          17,
          18,
          19,
          20,
          21,
          22,
          23,
          24
         ],
         "xaxis": "x",
         "y": [
          874.3,
          830.8,
          798.4,
          765.9,
          754.1,
          750.2,
          757.1,
          793.4,
          816.7,
          840.5,
          869.4,
          888.9,
          899.5,
          912.2,
          908.5,
          913.8,
          926.3,
          940.2,
          981.6,
          1012,
          1012.9,
          997.2,
          967.9,
          931.2
         ],
         "yaxis": "y"
        },
        {
         "hovertemplate": "unit=MIEU<br>hour=%{x}<br>energy=%{y}<extra></extra>",
         "legendgroup": "MIEU",
         "line": {
          "color": "#FF97FF",
          "dash": "solid",
          "shape": "hv"
         },
         "marker": {
          "symbol": "circle"
         },
         "mode": "lines",
         "name": "MIEU",
         "orientation": "v",
         "showlegend": true,
         "type": "scatter",
         "x": [
          1,
          2,
          3,
          4,
          5,
          6,
          7,
          8,
          9,
          10,
          11,
          12,
          13,
          14,
          15,
          16,
          17,
          18,
          19,
          20,
          21,
          22,
          23,
          24
         ],
         "xaxis": "x",
         "y": [
          2775,
          2775,
          2775,
          2775,
          2775,
          2775,
          2775,
          2914,
          1950,
          1950,
          1950,
          1850,
          1850,
          1850,
          1850,
          1950,
          1950,
          1950,
          2914,
          2914,
          2914,
          2914,
          2914,
          2914
         ],
         "yaxis": "y"
        },
        {
         "hovertemplate": "unit=VAN2<br>hour=%{x}<br>energy=%{y}<extra></extra>",
         "legendgroup": "VAN2",
         "line": {
          "color": "#FECB52",
          "dash": "solid",
          "shape": "hv"
         },
         "marker": {
          "symbol": "circle"
         },
         "mode": "lines",
         "name": "VAN2",
         "orientation": "v",
         "showlegend": true,
         "type": "scatter",
         "x": [
          1,
          2,
          3,
          4,
          5,
          6,
          7,
          8,
          9,
          10,
          11,
          12,
          13,
          14,
          15,
          16,
          17,
          18,
          19,
          20,
          21,
          22,
          23,
          24
         ],
         "xaxis": "x",
         "y": [
          783,
          783,
          783,
          783,
          783,
          783,
          783,
          783,
          783,
          783,
          783,
          783,
          783,
          783,
          783,
          783,
          783,
          783,
          783,
          783,
          783,
          783,
          783,
          783
         ],
         "yaxis": "y"
        }
       ],
       "layout": {
        "height": 600,
        "legend": {
         "title": {
          "text": "unit"
         },
         "tracegroupgap": 0
        },
        "margin": {
         "t": 60
        },
        "template": {
         "data": {
          "bar": [
           {
            "error_x": {
             "color": "#2a3f5f"
            },
            "error_y": {
             "color": "#2a3f5f"
            },
            "marker": {
             "line": {
              "color": "#E5ECF6",
              "width": 0.5
             },
             "pattern": {
              "fillmode": "overlay",
              "size": 10,
              "solidity": 0.2
             }
            },
            "type": "bar"
           }
          ],
          "barpolar": [
           {
            "marker": {
             "line": {
              "color": "#E5ECF6",
              "width": 0.5
             },
             "pattern": {
              "fillmode": "overlay",
              "size": 10,
              "solidity": 0.2
             }
            },
            "type": "barpolar"
           }
          ],
          "carpet": [
           {
            "aaxis": {
             "endlinecolor": "#2a3f5f",
             "gridcolor": "white",
             "linecolor": "white",
             "minorgridcolor": "white",
             "startlinecolor": "#2a3f5f"
            },
            "baxis": {
             "endlinecolor": "#2a3f5f",
             "gridcolor": "white",
             "linecolor": "white",
             "minorgridcolor": "white",
             "startlinecolor": "#2a3f5f"
            },
            "type": "carpet"
           }
          ],
          "choropleth": [
           {
            "colorbar": {
             "outlinewidth": 0,
             "ticks": ""
            },
            "type": "choropleth"
           }
          ],
          "contour": [
           {
            "colorbar": {
             "outlinewidth": 0,
             "ticks": ""
            },
            "colorscale": [
             [
              0,
              "#0d0887"
             ],
             [
              0.1111111111111111,
              "#46039f"
             ],
             [
              0.2222222222222222,
              "#7201a8"
             ],
             [
              0.3333333333333333,
              "#9c179e"
             ],
             [
              0.4444444444444444,
              "#bd3786"
             ],
             [
              0.5555555555555556,
              "#d8576b"
             ],
             [
              0.6666666666666666,
              "#ed7953"
             ],
             [
              0.7777777777777778,
              "#fb9f3a"
             ],
             [
              0.8888888888888888,
              "#fdca26"
             ],
             [
              1,
              "#f0f921"
             ]
            ],
            "type": "contour"
           }
          ],
          "contourcarpet": [
           {
            "colorbar": {
             "outlinewidth": 0,
             "ticks": ""
            },
            "type": "contourcarpet"
           }
          ],
          "heatmap": [
           {
            "colorbar": {
             "outlinewidth": 0,
             "ticks": ""
            },
            "colorscale": [
             [
              0,
              "#0d0887"
             ],
             [
              0.1111111111111111,
              "#46039f"
             ],
             [
              0.2222222222222222,
              "#7201a8"
             ],
             [
              0.3333333333333333,
              "#9c179e"
             ],
             [
              0.4444444444444444,
              "#bd3786"
             ],
             [
              0.5555555555555556,
              "#d8576b"
             ],
             [
              0.6666666666666666,
              "#ed7953"
             ],
             [
              0.7777777777777778,
              "#fb9f3a"
             ],
             [
              0.8888888888888888,
              "#fdca26"
             ],
             [
              1,
              "#f0f921"
             ]
            ],
            "type": "heatmap"
           }
          ],
          "heatmapgl": [
           {
            "colorbar": {
             "outlinewidth": 0,
             "ticks": ""
            },
            "colorscale": [
             [
              0,
              "#0d0887"
             ],
             [
              0.1111111111111111,
              "#46039f"
             ],
             [
              0.2222222222222222,
              "#7201a8"
             ],
             [
              0.3333333333333333,
              "#9c179e"
             ],
             [
              0.4444444444444444,
              "#bd3786"
             ],
             [
              0.5555555555555556,
              "#d8576b"
             ],
             [
              0.6666666666666666,
              "#ed7953"
             ],
             [
              0.7777777777777778,
              "#fb9f3a"
             ],
             [
              0.8888888888888888,
              "#fdca26"
             ],
             [
              1,
              "#f0f921"
             ]
            ],
            "type": "heatmapgl"
           }
          ],
          "histogram": [
           {
            "marker": {
             "pattern": {
              "fillmode": "overlay",
              "size": 10,
              "solidity": 0.2
             }
            },
            "type": "histogram"
           }
          ],
          "histogram2d": [
           {
            "colorbar": {
             "outlinewidth": 0,
             "ticks": ""
            },
            "colorscale": [
             [
              0,
              "#0d0887"
             ],
             [
              0.1111111111111111,
              "#46039f"
             ],
             [
              0.2222222222222222,
              "#7201a8"
             ],
             [
              0.3333333333333333,
              "#9c179e"
             ],
             [
              0.4444444444444444,
              "#bd3786"
             ],
             [
              0.5555555555555556,
              "#d8576b"
             ],
             [
              0.6666666666666666,
              "#ed7953"
             ],
             [
              0.7777777777777778,
              "#fb9f3a"
             ],
             [
              0.8888888888888888,
              "#fdca26"
             ],
             [
              1,
              "#f0f921"
             ]
            ],
            "type": "histogram2d"
           }
          ],
          "histogram2dcontour": [
           {
            "colorbar": {
             "outlinewidth": 0,
             "ticks": ""
            },
            "colorscale": [
             [
              0,
              "#0d0887"
             ],
             [
              0.1111111111111111,
              "#46039f"
             ],
             [
              0.2222222222222222,
              "#7201a8"
             ],
             [
              0.3333333333333333,
              "#9c179e"
             ],
             [
              0.4444444444444444,
              "#bd3786"
             ],
             [
              0.5555555555555556,
              "#d8576b"
             ],
             [
              0.6666666666666666,
              "#ed7953"
             ],
             [
              0.7777777777777778,
              "#fb9f3a"
             ],
             [
              0.8888888888888888,
              "#fdca26"
             ],
             [
              1,
              "#f0f921"
             ]
            ],
            "type": "histogram2dcontour"
           }
          ],
          "mesh3d": [
           {
            "colorbar": {
             "outlinewidth": 0,
             "ticks": ""
            },
            "type": "mesh3d"
           }
          ],
          "parcoords": [
           {
            "line": {
             "colorbar": {
              "outlinewidth": 0,
              "ticks": ""
             }
            },
            "type": "parcoords"
           }
          ],
          "pie": [
           {
            "automargin": true,
            "type": "pie"
           }
          ],
          "scatter": [
           {
            "fillpattern": {
             "fillmode": "overlay",
             "size": 10,
             "solidity": 0.2
            },
            "type": "scatter"
           }
          ],
          "scatter3d": [
           {
            "line": {
             "colorbar": {
              "outlinewidth": 0,
              "ticks": ""
             }
            },
            "marker": {
             "colorbar": {
              "outlinewidth": 0,
              "ticks": ""
             }
            },
            "type": "scatter3d"
           }
          ],
          "scattercarpet": [
           {
            "marker": {
             "colorbar": {
              "outlinewidth": 0,
              "ticks": ""
             }
            },
            "type": "scattercarpet"
           }
          ],
          "scattergeo": [
           {
            "marker": {
             "colorbar": {
              "outlinewidth": 0,
              "ticks": ""
             }
            },
            "type": "scattergeo"
           }
          ],
          "scattergl": [
           {
            "marker": {
             "colorbar": {
              "outlinewidth": 0,
              "ticks": ""
             }
            },
            "type": "scattergl"
           }
          ],
          "scattermapbox": [
           {
            "marker": {
             "colorbar": {
              "outlinewidth": 0,
              "ticks": ""
             }
            },
            "type": "scattermapbox"
           }
          ],
          "scatterpolar": [
           {
            "marker": {
             "colorbar": {
              "outlinewidth": 0,
              "ticks": ""
             }
            },
            "type": "scatterpolar"
           }
          ],
          "scatterpolargl": [
           {
            "marker": {
             "colorbar": {
              "outlinewidth": 0,
              "ticks": ""
             }
            },
            "type": "scatterpolargl"
           }
          ],
          "scatterternary": [
           {
            "marker": {
             "colorbar": {
              "outlinewidth": 0,
              "ticks": ""
             }
            },
            "type": "scatterternary"
           }
          ],
          "surface": [
           {
            "colorbar": {
             "outlinewidth": 0,
             "ticks": ""
            },
            "colorscale": [
             [
              0,
              "#0d0887"
             ],
             [
              0.1111111111111111,
              "#46039f"
             ],
             [
              0.2222222222222222,
              "#7201a8"
             ],
             [
              0.3333333333333333,
              "#9c179e"
             ],
             [
              0.4444444444444444,
              "#bd3786"
             ],
             [
              0.5555555555555556,
              "#d8576b"
             ],
             [
              0.6666666666666666,
              "#ed7953"
             ],
             [
              0.7777777777777778,
              "#fb9f3a"
             ],
             [
              0.8888888888888888,
              "#fdca26"
             ],
             [
              1,
              "#f0f921"
             ]
            ],
            "type": "surface"
           }
          ],
          "table": [
           {
            "cells": {
             "fill": {
              "color": "#EBF0F8"
             },
             "line": {
              "color": "white"
             }
            },
            "header": {
             "fill": {
              "color": "#C8D4E3"
             },
             "line": {
              "color": "white"
             }
            },
            "type": "table"
           }
          ]
         },
         "layout": {
          "annotationdefaults": {
           "arrowcolor": "#2a3f5f",
           "arrowhead": 0,
           "arrowwidth": 1
          },
          "autotypenumbers": "strict",
          "coloraxis": {
           "colorbar": {
            "outlinewidth": 0,
            "ticks": ""
           }
          },
          "colorscale": {
           "diverging": [
            [
             0,
             "#8e0152"
            ],
            [
             0.1,
             "#c51b7d"
            ],
            [
             0.2,
             "#de77ae"
            ],
            [
             0.3,
             "#f1b6da"
            ],
            [
             0.4,
             "#fde0ef"
            ],
            [
             0.5,
             "#f7f7f7"
            ],
            [
             0.6,
             "#e6f5d0"
            ],
            [
             0.7,
             "#b8e186"
            ],
            [
             0.8,
             "#7fbc41"
            ],
            [
             0.9,
             "#4d9221"
            ],
            [
             1,
             "#276419"
            ]
           ],
           "sequential": [
            [
             0,
             "#0d0887"
            ],
            [
             0.1111111111111111,
             "#46039f"
            ],
            [
             0.2222222222222222,
             "#7201a8"
            ],
            [
             0.3333333333333333,
             "#9c179e"
            ],
            [
             0.4444444444444444,
             "#bd3786"
            ],
            [
             0.5555555555555556,
             "#d8576b"
            ],
            [
             0.6666666666666666,
             "#ed7953"
            ],
            [
             0.7777777777777778,
             "#fb9f3a"
            ],
            [
             0.8888888888888888,
             "#fdca26"
            ],
            [
             1,
             "#f0f921"
            ]
           ],
           "sequentialminus": [
            [
             0,
             "#0d0887"
            ],
            [
             0.1111111111111111,
             "#46039f"
            ],
            [
             0.2222222222222222,
             "#7201a8"
            ],
            [
             0.3333333333333333,
             "#9c179e"
            ],
            [
             0.4444444444444444,
             "#bd3786"
            ],
            [
             0.5555555555555556,
             "#d8576b"
            ],
            [
             0.6666666666666666,
             "#ed7953"
            ],
            [
             0.7777777777777778,
             "#fb9f3a"
            ],
            [
             0.8888888888888888,
             "#fdca26"
            ],
            [
             1,
             "#f0f921"
            ]
           ]
          },
          "colorway": [
           "#636efa",
           "#EF553B",
           "#00cc96",
           "#ab63fa",
           "#FFA15A",
           "#19d3f3",
           "#FF6692",
           "#B6E880",
           "#FF97FF",
           "#FECB52"
          ],
          "font": {
           "color": "#2a3f5f"
          },
          "geo": {
           "bgcolor": "white",
           "lakecolor": "white",
           "landcolor": "#E5ECF6",
           "showlakes": true,
           "showland": true,
           "subunitcolor": "white"
          },
          "hoverlabel": {
           "align": "left"
          },
          "hovermode": "closest",
          "mapbox": {
           "style": "light"
          },
          "paper_bgcolor": "white",
          "plot_bgcolor": "#E5ECF6",
          "polar": {
           "angularaxis": {
            "gridcolor": "white",
            "linecolor": "white",
            "ticks": ""
           },
           "bgcolor": "#E5ECF6",
           "radialaxis": {
            "gridcolor": "white",
            "linecolor": "white",
            "ticks": ""
           }
          },
          "scene": {
           "xaxis": {
            "backgroundcolor": "#E5ECF6",
            "gridcolor": "white",
            "gridwidth": 2,
            "linecolor": "white",
            "showbackground": true,
            "ticks": "",
            "zerolinecolor": "white"
           },
           "yaxis": {
            "backgroundcolor": "#E5ECF6",
            "gridcolor": "white",
            "gridwidth": 2,
            "linecolor": "white",
            "showbackground": true,
            "ticks": "",
            "zerolinecolor": "white"
           },
           "zaxis": {
            "backgroundcolor": "#E5ECF6",
            "gridcolor": "white",
            "gridwidth": 2,
            "linecolor": "white",
            "showbackground": true,
            "ticks": "",
            "zerolinecolor": "white"
           }
          },
          "shapedefaults": {
           "line": {
            "color": "#2a3f5f"
           }
          },
          "ternary": {
           "aaxis": {
            "gridcolor": "white",
            "linecolor": "white",
            "ticks": ""
           },
           "baxis": {
            "gridcolor": "white",
            "linecolor": "white",
            "ticks": ""
           },
           "bgcolor": "#E5ECF6",
           "caxis": {
            "gridcolor": "white",
            "linecolor": "white",
            "ticks": ""
           }
          },
          "title": {
           "x": 0.05
          },
          "xaxis": {
           "automargin": true,
           "gridcolor": "white",
           "linecolor": "white",
           "ticks": "",
           "title": {
            "standoff": 15
           },
           "zerolinecolor": "white",
           "zerolinewidth": 2
          },
          "yaxis": {
           "automargin": true,
           "gridcolor": "white",
           "linecolor": "white",
           "ticks": "",
           "title": {
            "standoff": 15
           },
           "zerolinecolor": "white",
           "zerolinewidth": 2
          }
         }
        },
        "width": 1000,
        "xaxis": {
         "anchor": "y",
         "domain": [
          0,
          1
         ],
         "title": {
          "text": "hour"
         }
        },
        "yaxis": {
         "anchor": "x",
         "domain": [
          0,
          1
         ],
         "title": {
          "text": "energy"
         }
        }
       }
      }
     },
     "metadata": {},
     "output_type": "display_data"
    }
   ],
   "source": [
    "import plotly.express as px\n",
    "fig = px.line(df_result, x='hour', y='energy', color='unit', line_shape='hv', width=1000, height=600)\n",
    "fig.show()"
   ]
  },
  {
   "cell_type": "code",
   "execution_count": 12,
   "metadata": {},
   "outputs": [
    {
     "data": {
      "application/vnd.plotly.v1+json": {
       "config": {
        "plotlyServerURL": "https://plot.ly"
       },
       "data": [
        {
         "hovertemplate": "unit=EDPSVD1<br>hour=%{x}<br>energy=%{y}<extra></extra>",
         "legendgroup": "EDPSVD1",
         "line": {
          "color": "#636efa",
          "dash": "solid",
          "shape": "hv"
         },
         "marker": {
          "symbol": "circle"
         },
         "mode": "lines",
         "name": "EDPSVD1",
         "orientation": "v",
         "showlegend": true,
         "type": "scatter",
         "x": [
          1,
          2,
          3,
          4,
          5,
          6,
          7,
          8,
          9,
          10,
          11,
          12,
          13,
          14,
          15,
          16,
          17,
          18,
          19,
          20,
          21,
          22,
          23,
          24
         ],
         "xaxis": "x",
         "y": [
          2222.3,
          2267.2,
          2236.6,
          2249.2000000000003,
          2239,
          2206.9,
          2173.6,
          2179.2000000000003,
          2174.6,
          2134.6,
          2084.2000000000003,
          2029.6999999999998,
          1924.8,
          1760.6999999999998,
          1571.8000000000002,
          1461.6,
          1437.8000000000002,
          1440.6,
          1457.6,
          1500.4,
          1536.1000000000001,
          1515,
          1474.4,
          1395.9
         ],
         "yaxis": "y"
        },
        {
         "hovertemplate": "unit=EE21C01<br>hour=%{x}<br>energy=%{y}<extra></extra>",
         "legendgroup": "EE21C01",
         "line": {
          "color": "#EF553B",
          "dash": "solid",
          "shape": "hv"
         },
         "marker": {
          "symbol": "circle"
         },
         "mode": "lines",
         "name": "EE21C01",
         "orientation": "v",
         "showlegend": true,
         "type": "scatter",
         "x": [
          1,
          2,
          3,
          4,
          5,
          6,
          7,
          8,
          9,
          10,
          11,
          12,
          13,
          14,
          15,
          16,
          17,
          18,
          19,
          20,
          21,
          22,
          23,
          24
         ],
         "xaxis": "x",
         "y": [
          790,
          661.8,
          575.2,
          527.4,
          504.7,
          499.3,
          518.9,
          563,
          684,
          882.1,
          1014,
          1053.3,
          1070.3,
          1142,
          1160.7,
          1047.2,
          973.5,
          989.1,
          1116.4,
          1236,
          1324.7,
          1293.8,
          1120.4,
          923.7
         ],
         "yaxis": "y"
        },
        {
         "hovertemplate": "unit=EGEDC01<br>hour=%{x}<br>energy=%{y}<extra></extra>",
         "legendgroup": "EGEDC01",
         "line": {
          "color": "#00cc96",
          "dash": "solid",
          "shape": "hv"
         },
         "marker": {
          "symbol": "circle"
         },
         "mode": "lines",
         "name": "EGEDC01",
         "orientation": "v",
         "showlegend": true,
         "type": "scatter",
         "x": [
          1,
          2,
          3,
          4,
          5,
          6,
          7,
          8,
          9,
          10,
          11,
          12,
          13,
          14,
          15,
          16,
          17,
          18,
          19,
          20,
          21,
          22,
          23,
          24
         ],
         "xaxis": "x",
         "y": [
          763.7,
          759.0999999999999,
          751.7,
          747.5999999999999,
          749.3,
          749.9000000000001,
          753.8,
          760.8,
          763.4000000000001,
          751.7,
          771.0999999999999,
          763,
          758.5,
          761.5,
          767.0999999999999,
          778.9000000000001,
          790.3,
          791.5999999999999,
          803.8,
          813.5999999999999,
          815.9000000000001,
          837.4000000000001,
          868.5999999999999,
          892.4000000000001
         ],
         "yaxis": "y"
        },
        {
         "hovertemplate": "unit=ENDE01<br>hour=%{x}<br>energy=%{y}<extra></extra>",
         "legendgroup": "ENDE01",
         "line": {
          "color": "#ab63fa",
          "dash": "solid",
          "shape": "hv"
         },
         "marker": {
          "symbol": "circle"
         },
         "mode": "lines",
         "name": "ENDE01",
         "orientation": "v",
         "showlegend": true,
         "type": "scatter",
         "x": [
          1,
          2,
          3,
          4,
          5,
          6,
          7,
          8,
          9,
          10,
          11,
          12,
          13,
          14,
          15,
          16,
          17,
          18,
          19,
          20,
          21,
          22,
          23,
          24
         ],
         "xaxis": "x",
         "y": [
          3009.6,
          2746.7,
          2676.8,
          2597.5,
          2589.8,
          2604.4,
          2737,
          2819.1,
          2923.4,
          3008.9,
          3105.1,
          3057.5,
          3046.1,
          3193.2,
          3082.7,
          3025,
          3168.2,
          3127,
          3647.3,
          3880.6,
          4074.9,
          3975.8,
          3615.2,
          3292.8
         ],
         "yaxis": "y"
        },
        {
         "hovertemplate": "unit=GEDPGC2<br>hour=%{x}<br>energy=%{y}<extra></extra>",
         "legendgroup": "GEDPGC2",
         "line": {
          "color": "#FFA15A",
          "dash": "solid",
          "shape": "hv"
         },
         "marker": {
          "symbol": "circle"
         },
         "mode": "lines",
         "name": "GEDPGC2",
         "orientation": "v",
         "showlegend": true,
         "type": "scatter",
         "x": [
          1,
          2,
          3,
          4,
          5,
          6,
          7,
          8,
          9,
          10,
          11,
          12,
          13,
          14,
          15,
          16,
          17,
          18,
          19,
          20,
          21,
          22,
          23,
          24
         ],
         "xaxis": "x",
         "y": [
          1761.2,
          1576.3,
          1425.7,
          1309.1,
          1251.9,
          1227.7,
          1221.6,
          1257.8,
          1326.4,
          1533,
          1724.9,
          1883,
          2020.7,
          2101.2,
          1979.7,
          1897.9,
          1861.6,
          1885.3,
          2098,
          2300.9,
          2412.7,
          2344.4,
          2193.1,
          1946
         ],
         "yaxis": "y"
        },
        {
         "hovertemplate": "unit=GGNCOC1<br>hour=%{x}<br>energy=%{y}<extra></extra>",
         "legendgroup": "GGNCOC1",
         "line": {
          "color": "#19d3f3",
          "dash": "solid",
          "shape": "hv"
         },
         "marker": {
          "symbol": "circle"
         },
         "mode": "lines",
         "name": "GGNCOC1",
         "orientation": "v",
         "showlegend": true,
         "type": "scatter",
         "x": [
          1,
          2,
          3,
          4,
          5,
          6,
          7,
          8,
          9,
          10,
          11,
          12,
          13,
          14,
          15,
          16,
          17,
          18,
          19,
          20,
          21,
          22,
          23,
          24
         ],
         "xaxis": "x",
         "y": [
          1142,
          943.6,
          841.6,
          757.1,
          721.7,
          723.2,
          763.2,
          815.4,
          935.5,
          1080.3,
          1170.2,
          1188.6,
          1228.4,
          1373.9,
          1467.2,
          1371.8,
          1386.2,
          1484.3,
          1620.2,
          1775.9,
          1948.7,
          1971.4,
          1746.8,
          1462.6
         ],
         "yaxis": "y"
        },
        {
         "hovertemplate": "unit=ICLIC01<br>hour=%{x}<br>energy=%{y}<extra></extra>",
         "legendgroup": "ICLIC01",
         "line": {
          "color": "#FF6692",
          "dash": "solid",
          "shape": "hv"
         },
         "marker": {
          "symbol": "circle"
         },
         "mode": "lines",
         "name": "ICLIC01",
         "orientation": "v",
         "showlegend": true,
         "type": "scatter",
         "x": [
          1,
          2,
          3,
          4,
          5,
          6,
          7,
          8,
          9,
          10,
          11,
          12,
          13,
          14,
          15,
          16,
          17,
          18,
          19,
          20,
          21
         ],
         "xaxis": "x",
         "y": [
          579.3,
          320.6,
          177.2,
          76.3,
          35.8,
          53.6,
          174.8,
          192.1,
          257.1,
          300.3,
          1922.5,
          1984,
          1908,
          2007.9,
          1982.4,
          1780.5,
          1303.5,
          1499.5,
          2012.8,
          1734.3,
          1830.9
         ],
         "yaxis": "y"
        },
        {
         "hovertemplate": "unit=IGESC2<br>hour=%{x}<br>energy=%{y}<extra></extra>",
         "legendgroup": "IGESC2",
         "line": {
          "color": "#B6E880",
          "dash": "solid",
          "shape": "hv"
         },
         "marker": {
          "symbol": "circle"
         },
         "mode": "lines",
         "name": "IGESC2",
         "orientation": "v",
         "showlegend": true,
         "type": "scatter",
         "x": [
          1,
          2,
          3,
          4,
          5,
          6,
          7,
          8,
          9,
          10,
          11,
          12,
          13,
          14,
          15,
          16,
          17,
          18,
          19,
          20,
          21,
          22,
          23,
          24
         ],
         "xaxis": "x",
         "y": [
          874.3,
          830.8,
          798.4,
          765.9,
          754.1,
          750.2,
          757.1,
          793.4,
          816.7,
          840.5,
          869.4,
          888.9,
          899.5,
          912.2,
          908.5,
          913.8,
          926.3,
          940.2,
          981.6,
          1012,
          1012.9,
          997.2,
          967.9,
          931.2
         ],
         "yaxis": "y"
        },
        {
         "hovertemplate": "unit=MIEU<br>hour=%{x}<br>energy=%{y}<extra></extra>",
         "legendgroup": "MIEU",
         "line": {
          "color": "#FF97FF",
          "dash": "solid",
          "shape": "hv"
         },
         "marker": {
          "symbol": "circle"
         },
         "mode": "lines",
         "name": "MIEU",
         "orientation": "v",
         "showlegend": true,
         "type": "scatter",
         "x": [
          1,
          2,
          3,
          4,
          5,
          6,
          7,
          8,
          9,
          10,
          11,
          12,
          13,
          14,
          15,
          16,
          17,
          18,
          19,
          20,
          21,
          22,
          23,
          24
         ],
         "xaxis": "x",
         "y": [
          2775,
          2775,
          2775,
          2775,
          2775,
          2775,
          2775,
          2914,
          1950,
          1950,
          1950,
          1850,
          1850,
          1850,
          1850,
          1950,
          1950,
          1950,
          2914,
          2914,
          2914,
          2914,
          2914,
          2914
         ],
         "yaxis": "y"
        },
        {
         "hovertemplate": "unit=VAN2<br>hour=%{x}<br>energy=%{y}<extra></extra>",
         "legendgroup": "VAN2",
         "line": {
          "color": "#FECB52",
          "dash": "solid",
          "shape": "hv"
         },
         "marker": {
          "symbol": "circle"
         },
         "mode": "lines",
         "name": "VAN2",
         "orientation": "v",
         "showlegend": true,
         "type": "scatter",
         "x": [
          1,
          2,
          3,
          4,
          5,
          6,
          7,
          8,
          9,
          10,
          11,
          12,
          13,
          14,
          15,
          16,
          17,
          18,
          19,
          20,
          21,
          22,
          23,
          24
         ],
         "xaxis": "x",
         "y": [
          783,
          783,
          783,
          783,
          783,
          783,
          783,
          783,
          783,
          783,
          783,
          783,
          783,
          783,
          783,
          783,
          783,
          783,
          783,
          783,
          783,
          783,
          783,
          783
         ],
         "yaxis": "y"
        }
       ],
       "layout": {
        "height": 600,
        "hovermode": "x unified",
        "legend": {
         "title": {
          "text": "unit"
         },
         "tracegroupgap": 0
        },
        "margin": {
         "t": 60
        },
        "template": {
         "data": {
          "bar": [
           {
            "error_x": {
             "color": "#2a3f5f"
            },
            "error_y": {
             "color": "#2a3f5f"
            },
            "marker": {
             "line": {
              "color": "#E5ECF6",
              "width": 0.5
             },
             "pattern": {
              "fillmode": "overlay",
              "size": 10,
              "solidity": 0.2
             }
            },
            "type": "bar"
           }
          ],
          "barpolar": [
           {
            "marker": {
             "line": {
              "color": "#E5ECF6",
              "width": 0.5
             },
             "pattern": {
              "fillmode": "overlay",
              "size": 10,
              "solidity": 0.2
             }
            },
            "type": "barpolar"
           }
          ],
          "carpet": [
           {
            "aaxis": {
             "endlinecolor": "#2a3f5f",
             "gridcolor": "white",
             "linecolor": "white",
             "minorgridcolor": "white",
             "startlinecolor": "#2a3f5f"
            },
            "baxis": {
             "endlinecolor": "#2a3f5f",
             "gridcolor": "white",
             "linecolor": "white",
             "minorgridcolor": "white",
             "startlinecolor": "#2a3f5f"
            },
            "type": "carpet"
           }
          ],
          "choropleth": [
           {
            "colorbar": {
             "outlinewidth": 0,
             "ticks": ""
            },
            "type": "choropleth"
           }
          ],
          "contour": [
           {
            "colorbar": {
             "outlinewidth": 0,
             "ticks": ""
            },
            "colorscale": [
             [
              0,
              "#0d0887"
             ],
             [
              0.1111111111111111,
              "#46039f"
             ],
             [
              0.2222222222222222,
              "#7201a8"
             ],
             [
              0.3333333333333333,
              "#9c179e"
             ],
             [
              0.4444444444444444,
              "#bd3786"
             ],
             [
              0.5555555555555556,
              "#d8576b"
             ],
             [
              0.6666666666666666,
              "#ed7953"
             ],
             [
              0.7777777777777778,
              "#fb9f3a"
             ],
             [
              0.8888888888888888,
              "#fdca26"
             ],
             [
              1,
              "#f0f921"
             ]
            ],
            "type": "contour"
           }
          ],
          "contourcarpet": [
           {
            "colorbar": {
             "outlinewidth": 0,
             "ticks": ""
            },
            "type": "contourcarpet"
           }
          ],
          "heatmap": [
           {
            "colorbar": {
             "outlinewidth": 0,
             "ticks": ""
            },
            "colorscale": [
             [
              0,
              "#0d0887"
             ],
             [
              0.1111111111111111,
              "#46039f"
             ],
             [
              0.2222222222222222,
              "#7201a8"
             ],
             [
              0.3333333333333333,
              "#9c179e"
             ],
             [
              0.4444444444444444,
              "#bd3786"
             ],
             [
              0.5555555555555556,
              "#d8576b"
             ],
             [
              0.6666666666666666,
              "#ed7953"
             ],
             [
              0.7777777777777778,
              "#fb9f3a"
             ],
             [
              0.8888888888888888,
              "#fdca26"
             ],
             [
              1,
              "#f0f921"
             ]
            ],
            "type": "heatmap"
           }
          ],
          "heatmapgl": [
           {
            "colorbar": {
             "outlinewidth": 0,
             "ticks": ""
            },
            "colorscale": [
             [
              0,
              "#0d0887"
             ],
             [
              0.1111111111111111,
              "#46039f"
             ],
             [
              0.2222222222222222,
              "#7201a8"
             ],
             [
              0.3333333333333333,
              "#9c179e"
             ],
             [
              0.4444444444444444,
              "#bd3786"
             ],
             [
              0.5555555555555556,
              "#d8576b"
             ],
             [
              0.6666666666666666,
              "#ed7953"
             ],
             [
              0.7777777777777778,
              "#fb9f3a"
             ],
             [
              0.8888888888888888,
              "#fdca26"
             ],
             [
              1,
              "#f0f921"
             ]
            ],
            "type": "heatmapgl"
           }
          ],
          "histogram": [
           {
            "marker": {
             "pattern": {
              "fillmode": "overlay",
              "size": 10,
              "solidity": 0.2
             }
            },
            "type": "histogram"
           }
          ],
          "histogram2d": [
           {
            "colorbar": {
             "outlinewidth": 0,
             "ticks": ""
            },
            "colorscale": [
             [
              0,
              "#0d0887"
             ],
             [
              0.1111111111111111,
              "#46039f"
             ],
             [
              0.2222222222222222,
              "#7201a8"
             ],
             [
              0.3333333333333333,
              "#9c179e"
             ],
             [
              0.4444444444444444,
              "#bd3786"
             ],
             [
              0.5555555555555556,
              "#d8576b"
             ],
             [
              0.6666666666666666,
              "#ed7953"
             ],
             [
              0.7777777777777778,
              "#fb9f3a"
             ],
             [
              0.8888888888888888,
              "#fdca26"
             ],
             [
              1,
              "#f0f921"
             ]
            ],
            "type": "histogram2d"
           }
          ],
          "histogram2dcontour": [
           {
            "colorbar": {
             "outlinewidth": 0,
             "ticks": ""
            },
            "colorscale": [
             [
              0,
              "#0d0887"
             ],
             [
              0.1111111111111111,
              "#46039f"
             ],
             [
              0.2222222222222222,
              "#7201a8"
             ],
             [
              0.3333333333333333,
              "#9c179e"
             ],
             [
              0.4444444444444444,
              "#bd3786"
             ],
             [
              0.5555555555555556,
              "#d8576b"
             ],
             [
              0.6666666666666666,
              "#ed7953"
             ],
             [
              0.7777777777777778,
              "#fb9f3a"
             ],
             [
              0.8888888888888888,
              "#fdca26"
             ],
             [
              1,
              "#f0f921"
             ]
            ],
            "type": "histogram2dcontour"
           }
          ],
          "mesh3d": [
           {
            "colorbar": {
             "outlinewidth": 0,
             "ticks": ""
            },
            "type": "mesh3d"
           }
          ],
          "parcoords": [
           {
            "line": {
             "colorbar": {
              "outlinewidth": 0,
              "ticks": ""
             }
            },
            "type": "parcoords"
           }
          ],
          "pie": [
           {
            "automargin": true,
            "type": "pie"
           }
          ],
          "scatter": [
           {
            "fillpattern": {
             "fillmode": "overlay",
             "size": 10,
             "solidity": 0.2
            },
            "type": "scatter"
           }
          ],
          "scatter3d": [
           {
            "line": {
             "colorbar": {
              "outlinewidth": 0,
              "ticks": ""
             }
            },
            "marker": {
             "colorbar": {
              "outlinewidth": 0,
              "ticks": ""
             }
            },
            "type": "scatter3d"
           }
          ],
          "scattercarpet": [
           {
            "marker": {
             "colorbar": {
              "outlinewidth": 0,
              "ticks": ""
             }
            },
            "type": "scattercarpet"
           }
          ],
          "scattergeo": [
           {
            "marker": {
             "colorbar": {
              "outlinewidth": 0,
              "ticks": ""
             }
            },
            "type": "scattergeo"
           }
          ],
          "scattergl": [
           {
            "marker": {
             "colorbar": {
              "outlinewidth": 0,
              "ticks": ""
             }
            },
            "type": "scattergl"
           }
          ],
          "scattermapbox": [
           {
            "marker": {
             "colorbar": {
              "outlinewidth": 0,
              "ticks": ""
             }
            },
            "type": "scattermapbox"
           }
          ],
          "scatterpolar": [
           {
            "marker": {
             "colorbar": {
              "outlinewidth": 0,
              "ticks": ""
             }
            },
            "type": "scatterpolar"
           }
          ],
          "scatterpolargl": [
           {
            "marker": {
             "colorbar": {
              "outlinewidth": 0,
              "ticks": ""
             }
            },
            "type": "scatterpolargl"
           }
          ],
          "scatterternary": [
           {
            "marker": {
             "colorbar": {
              "outlinewidth": 0,
              "ticks": ""
             }
            },
            "type": "scatterternary"
           }
          ],
          "surface": [
           {
            "colorbar": {
             "outlinewidth": 0,
             "ticks": ""
            },
            "colorscale": [
             [
              0,
              "#0d0887"
             ],
             [
              0.1111111111111111,
              "#46039f"
             ],
             [
              0.2222222222222222,
              "#7201a8"
             ],
             [
              0.3333333333333333,
              "#9c179e"
             ],
             [
              0.4444444444444444,
              "#bd3786"
             ],
             [
              0.5555555555555556,
              "#d8576b"
             ],
             [
              0.6666666666666666,
              "#ed7953"
             ],
             [
              0.7777777777777778,
              "#fb9f3a"
             ],
             [
              0.8888888888888888,
              "#fdca26"
             ],
             [
              1,
              "#f0f921"
             ]
            ],
            "type": "surface"
           }
          ],
          "table": [
           {
            "cells": {
             "fill": {
              "color": "#EBF0F8"
             },
             "line": {
              "color": "white"
             }
            },
            "header": {
             "fill": {
              "color": "#C8D4E3"
             },
             "line": {
              "color": "white"
             }
            },
            "type": "table"
           }
          ]
         },
         "layout": {
          "annotationdefaults": {
           "arrowcolor": "#2a3f5f",
           "arrowhead": 0,
           "arrowwidth": 1
          },
          "autotypenumbers": "strict",
          "coloraxis": {
           "colorbar": {
            "outlinewidth": 0,
            "ticks": ""
           }
          },
          "colorscale": {
           "diverging": [
            [
             0,
             "#8e0152"
            ],
            [
             0.1,
             "#c51b7d"
            ],
            [
             0.2,
             "#de77ae"
            ],
            [
             0.3,
             "#f1b6da"
            ],
            [
             0.4,
             "#fde0ef"
            ],
            [
             0.5,
             "#f7f7f7"
            ],
            [
             0.6,
             "#e6f5d0"
            ],
            [
             0.7,
             "#b8e186"
            ],
            [
             0.8,
             "#7fbc41"
            ],
            [
             0.9,
             "#4d9221"
            ],
            [
             1,
             "#276419"
            ]
           ],
           "sequential": [
            [
             0,
             "#0d0887"
            ],
            [
             0.1111111111111111,
             "#46039f"
            ],
            [
             0.2222222222222222,
             "#7201a8"
            ],
            [
             0.3333333333333333,
             "#9c179e"
            ],
            [
             0.4444444444444444,
             "#bd3786"
            ],
            [
             0.5555555555555556,
             "#d8576b"
            ],
            [
             0.6666666666666666,
             "#ed7953"
            ],
            [
             0.7777777777777778,
             "#fb9f3a"
            ],
            [
             0.8888888888888888,
             "#fdca26"
            ],
            [
             1,
             "#f0f921"
            ]
           ],
           "sequentialminus": [
            [
             0,
             "#0d0887"
            ],
            [
             0.1111111111111111,
             "#46039f"
            ],
            [
             0.2222222222222222,
             "#7201a8"
            ],
            [
             0.3333333333333333,
             "#9c179e"
            ],
            [
             0.4444444444444444,
             "#bd3786"
            ],
            [
             0.5555555555555556,
             "#d8576b"
            ],
            [
             0.6666666666666666,
             "#ed7953"
            ],
            [
             0.7777777777777778,
             "#fb9f3a"
            ],
            [
             0.8888888888888888,
             "#fdca26"
            ],
            [
             1,
             "#f0f921"
            ]
           ]
          },
          "colorway": [
           "#636efa",
           "#EF553B",
           "#00cc96",
           "#ab63fa",
           "#FFA15A",
           "#19d3f3",
           "#FF6692",
           "#B6E880",
           "#FF97FF",
           "#FECB52"
          ],
          "font": {
           "color": "#2a3f5f"
          },
          "geo": {
           "bgcolor": "white",
           "lakecolor": "white",
           "landcolor": "#E5ECF6",
           "showlakes": true,
           "showland": true,
           "subunitcolor": "white"
          },
          "hoverlabel": {
           "align": "left"
          },
          "hovermode": "closest",
          "mapbox": {
           "style": "light"
          },
          "paper_bgcolor": "white",
          "plot_bgcolor": "#E5ECF6",
          "polar": {
           "angularaxis": {
            "gridcolor": "white",
            "linecolor": "white",
            "ticks": ""
           },
           "bgcolor": "#E5ECF6",
           "radialaxis": {
            "gridcolor": "white",
            "linecolor": "white",
            "ticks": ""
           }
          },
          "scene": {
           "xaxis": {
            "backgroundcolor": "#E5ECF6",
            "gridcolor": "white",
            "gridwidth": 2,
            "linecolor": "white",
            "showbackground": true,
            "ticks": "",
            "zerolinecolor": "white"
           },
           "yaxis": {
            "backgroundcolor": "#E5ECF6",
            "gridcolor": "white",
            "gridwidth": 2,
            "linecolor": "white",
            "showbackground": true,
            "ticks": "",
            "zerolinecolor": "white"
           },
           "zaxis": {
            "backgroundcolor": "#E5ECF6",
            "gridcolor": "white",
            "gridwidth": 2,
            "linecolor": "white",
            "showbackground": true,
            "ticks": "",
            "zerolinecolor": "white"
           }
          },
          "shapedefaults": {
           "line": {
            "color": "#2a3f5f"
           }
          },
          "ternary": {
           "aaxis": {
            "gridcolor": "white",
            "linecolor": "white",
            "ticks": ""
           },
           "baxis": {
            "gridcolor": "white",
            "linecolor": "white",
            "ticks": ""
           },
           "bgcolor": "#E5ECF6",
           "caxis": {
            "gridcolor": "white",
            "linecolor": "white",
            "ticks": ""
           }
          },
          "title": {
           "x": 0.05
          },
          "xaxis": {
           "automargin": true,
           "gridcolor": "white",
           "linecolor": "white",
           "ticks": "",
           "title": {
            "standoff": 15
           },
           "zerolinecolor": "white",
           "zerolinewidth": 2
          },
          "yaxis": {
           "automargin": true,
           "gridcolor": "white",
           "linecolor": "white",
           "ticks": "",
           "title": {
            "standoff": 15
           },
           "zerolinecolor": "white",
           "zerolinewidth": 2
          }
         }
        },
        "width": 1000,
        "xaxis": {
         "anchor": "y",
         "domain": [
          0,
          1
         ],
         "title": {
          "text": "hour"
         }
        },
        "yaxis": {
         "anchor": "x",
         "domain": [
          0,
          1
         ],
         "title": {
          "text": "energy"
         }
        }
       }
      }
     },
     "metadata": {},
     "output_type": "display_data"
    }
   ],
   "source": [
    "fig.update_layout(hovermode='x unified')"
   ]
  },
  {
   "cell_type": "code",
   "execution_count": 13,
   "metadata": {},
   "outputs": [
    {
     "data": {
      "application/vnd.plotly.v1+json": {
       "config": {
        "plotlyServerURL": "https://plot.ly"
       },
       "data": [
        {
         "fillpattern": {
          "shape": ""
         },
         "hovertemplate": "unit=EDPSVD1<br>hour=%{x}<br>energy=%{y}<extra></extra>",
         "legendgroup": "EDPSVD1",
         "line": {
          "color": "#636efa",
          "shape": "hv"
         },
         "marker": {
          "symbol": "circle"
         },
         "mode": "lines",
         "name": "EDPSVD1",
         "orientation": "v",
         "showlegend": true,
         "stackgroup": "1",
         "type": "scatter",
         "x": [
          1,
          2,
          3,
          4,
          5,
          6,
          7,
          8,
          9,
          10,
          11,
          12,
          13,
          14,
          15,
          16,
          17,
          18,
          19,
          20,
          21,
          22,
          23,
          24
         ],
         "xaxis": "x",
         "y": [
          2222.3,
          2267.2,
          2236.6,
          2249.2000000000003,
          2239,
          2206.9,
          2173.6,
          2179.2000000000003,
          2174.6,
          2134.6,
          2084.2000000000003,
          2029.6999999999998,
          1924.8,
          1760.6999999999998,
          1571.8000000000002,
          1461.6,
          1437.8000000000002,
          1440.6,
          1457.6,
          1500.4,
          1536.1000000000001,
          1515,
          1474.4,
          1395.9
         ],
         "yaxis": "y"
        },
        {
         "fillpattern": {
          "shape": ""
         },
         "hovertemplate": "unit=EE21C01<br>hour=%{x}<br>energy=%{y}<extra></extra>",
         "legendgroup": "EE21C01",
         "line": {
          "color": "#EF553B",
          "shape": "hv"
         },
         "marker": {
          "symbol": "circle"
         },
         "mode": "lines",
         "name": "EE21C01",
         "orientation": "v",
         "showlegend": true,
         "stackgroup": "1",
         "type": "scatter",
         "x": [
          1,
          2,
          3,
          4,
          5,
          6,
          7,
          8,
          9,
          10,
          11,
          12,
          13,
          14,
          15,
          16,
          17,
          18,
          19,
          20,
          21,
          22,
          23,
          24
         ],
         "xaxis": "x",
         "y": [
          790,
          661.8,
          575.2,
          527.4,
          504.7,
          499.3,
          518.9,
          563,
          684,
          882.1,
          1014,
          1053.3,
          1070.3,
          1142,
          1160.7,
          1047.2,
          973.5,
          989.1,
          1116.4,
          1236,
          1324.7,
          1293.8,
          1120.4,
          923.7
         ],
         "yaxis": "y"
        },
        {
         "fillpattern": {
          "shape": ""
         },
         "hovertemplate": "unit=EGEDC01<br>hour=%{x}<br>energy=%{y}<extra></extra>",
         "legendgroup": "EGEDC01",
         "line": {
          "color": "#00cc96",
          "shape": "hv"
         },
         "marker": {
          "symbol": "circle"
         },
         "mode": "lines",
         "name": "EGEDC01",
         "orientation": "v",
         "showlegend": true,
         "stackgroup": "1",
         "type": "scatter",
         "x": [
          1,
          2,
          3,
          4,
          5,
          6,
          7,
          8,
          9,
          10,
          11,
          12,
          13,
          14,
          15,
          16,
          17,
          18,
          19,
          20,
          21,
          22,
          23,
          24
         ],
         "xaxis": "x",
         "y": [
          763.7,
          759.0999999999999,
          751.7,
          747.5999999999999,
          749.3,
          749.9000000000001,
          753.8,
          760.8,
          763.4000000000001,
          751.7,
          771.0999999999999,
          763,
          758.5,
          761.5,
          767.0999999999999,
          778.9000000000001,
          790.3,
          791.5999999999999,
          803.8,
          813.5999999999999,
          815.9000000000001,
          837.4000000000001,
          868.5999999999999,
          892.4000000000001
         ],
         "yaxis": "y"
        },
        {
         "fillpattern": {
          "shape": ""
         },
         "hovertemplate": "unit=ENDE01<br>hour=%{x}<br>energy=%{y}<extra></extra>",
         "legendgroup": "ENDE01",
         "line": {
          "color": "#ab63fa",
          "shape": "hv"
         },
         "marker": {
          "symbol": "circle"
         },
         "mode": "lines",
         "name": "ENDE01",
         "orientation": "v",
         "showlegend": true,
         "stackgroup": "1",
         "type": "scatter",
         "x": [
          1,
          2,
          3,
          4,
          5,
          6,
          7,
          8,
          9,
          10,
          11,
          12,
          13,
          14,
          15,
          16,
          17,
          18,
          19,
          20,
          21,
          22,
          23,
          24
         ],
         "xaxis": "x",
         "y": [
          3009.6,
          2746.7,
          2676.8,
          2597.5,
          2589.8,
          2604.4,
          2737,
          2819.1,
          2923.4,
          3008.9,
          3105.1,
          3057.5,
          3046.1,
          3193.2,
          3082.7,
          3025,
          3168.2,
          3127,
          3647.3,
          3880.6,
          4074.9,
          3975.8,
          3615.2,
          3292.8
         ],
         "yaxis": "y"
        },
        {
         "fillpattern": {
          "shape": ""
         },
         "hovertemplate": "unit=GEDPGC2<br>hour=%{x}<br>energy=%{y}<extra></extra>",
         "legendgroup": "GEDPGC2",
         "line": {
          "color": "#FFA15A",
          "shape": "hv"
         },
         "marker": {
          "symbol": "circle"
         },
         "mode": "lines",
         "name": "GEDPGC2",
         "orientation": "v",
         "showlegend": true,
         "stackgroup": "1",
         "type": "scatter",
         "x": [
          1,
          2,
          3,
          4,
          5,
          6,
          7,
          8,
          9,
          10,
          11,
          12,
          13,
          14,
          15,
          16,
          17,
          18,
          19,
          20,
          21,
          22,
          23,
          24
         ],
         "xaxis": "x",
         "y": [
          1761.2,
          1576.3,
          1425.7,
          1309.1,
          1251.9,
          1227.7,
          1221.6,
          1257.8,
          1326.4,
          1533,
          1724.9,
          1883,
          2020.7,
          2101.2,
          1979.7,
          1897.9,
          1861.6,
          1885.3,
          2098,
          2300.9,
          2412.7,
          2344.4,
          2193.1,
          1946
         ],
         "yaxis": "y"
        },
        {
         "fillpattern": {
          "shape": ""
         },
         "hovertemplate": "unit=GGNCOC1<br>hour=%{x}<br>energy=%{y}<extra></extra>",
         "legendgroup": "GGNCOC1",
         "line": {
          "color": "#19d3f3",
          "shape": "hv"
         },
         "marker": {
          "symbol": "circle"
         },
         "mode": "lines",
         "name": "GGNCOC1",
         "orientation": "v",
         "showlegend": true,
         "stackgroup": "1",
         "type": "scatter",
         "x": [
          1,
          2,
          3,
          4,
          5,
          6,
          7,
          8,
          9,
          10,
          11,
          12,
          13,
          14,
          15,
          16,
          17,
          18,
          19,
          20,
          21,
          22,
          23,
          24
         ],
         "xaxis": "x",
         "y": [
          1142,
          943.6,
          841.6,
          757.1,
          721.7,
          723.2,
          763.2,
          815.4,
          935.5,
          1080.3,
          1170.2,
          1188.6,
          1228.4,
          1373.9,
          1467.2,
          1371.8,
          1386.2,
          1484.3,
          1620.2,
          1775.9,
          1948.7,
          1971.4,
          1746.8,
          1462.6
         ],
         "yaxis": "y"
        },
        {
         "fillpattern": {
          "shape": ""
         },
         "hovertemplate": "unit=ICLIC01<br>hour=%{x}<br>energy=%{y}<extra></extra>",
         "legendgroup": "ICLIC01",
         "line": {
          "color": "#FF6692",
          "shape": "hv"
         },
         "marker": {
          "symbol": "circle"
         },
         "mode": "lines",
         "name": "ICLIC01",
         "orientation": "v",
         "showlegend": true,
         "stackgroup": "1",
         "type": "scatter",
         "x": [
          1,
          2,
          3,
          4,
          5,
          6,
          7,
          8,
          9,
          10,
          11,
          12,
          13,
          14,
          15,
          16,
          17,
          18,
          19,
          20,
          21
         ],
         "xaxis": "x",
         "y": [
          579.3,
          320.6,
          177.2,
          76.3,
          35.8,
          53.6,
          174.8,
          192.1,
          257.1,
          300.3,
          1922.5,
          1984,
          1908,
          2007.9,
          1982.4,
          1780.5,
          1303.5,
          1499.5,
          2012.8,
          1734.3,
          1830.9
         ],
         "yaxis": "y"
        },
        {
         "fillpattern": {
          "shape": ""
         },
         "hovertemplate": "unit=IGESC2<br>hour=%{x}<br>energy=%{y}<extra></extra>",
         "legendgroup": "IGESC2",
         "line": {
          "color": "#B6E880",
          "shape": "hv"
         },
         "marker": {
          "symbol": "circle"
         },
         "mode": "lines",
         "name": "IGESC2",
         "orientation": "v",
         "showlegend": true,
         "stackgroup": "1",
         "type": "scatter",
         "x": [
          1,
          2,
          3,
          4,
          5,
          6,
          7,
          8,
          9,
          10,
          11,
          12,
          13,
          14,
          15,
          16,
          17,
          18,
          19,
          20,
          21,
          22,
          23,
          24
         ],
         "xaxis": "x",
         "y": [
          874.3,
          830.8,
          798.4,
          765.9,
          754.1,
          750.2,
          757.1,
          793.4,
          816.7,
          840.5,
          869.4,
          888.9,
          899.5,
          912.2,
          908.5,
          913.8,
          926.3,
          940.2,
          981.6,
          1012,
          1012.9,
          997.2,
          967.9,
          931.2
         ],
         "yaxis": "y"
        },
        {
         "fillpattern": {
          "shape": ""
         },
         "hovertemplate": "unit=MIEU<br>hour=%{x}<br>energy=%{y}<extra></extra>",
         "legendgroup": "MIEU",
         "line": {
          "color": "#FF97FF",
          "shape": "hv"
         },
         "marker": {
          "symbol": "circle"
         },
         "mode": "lines",
         "name": "MIEU",
         "orientation": "v",
         "showlegend": true,
         "stackgroup": "1",
         "type": "scatter",
         "x": [
          1,
          2,
          3,
          4,
          5,
          6,
          7,
          8,
          9,
          10,
          11,
          12,
          13,
          14,
          15,
          16,
          17,
          18,
          19,
          20,
          21,
          22,
          23,
          24
         ],
         "xaxis": "x",
         "y": [
          2775,
          2775,
          2775,
          2775,
          2775,
          2775,
          2775,
          2914,
          1950,
          1950,
          1950,
          1850,
          1850,
          1850,
          1850,
          1950,
          1950,
          1950,
          2914,
          2914,
          2914,
          2914,
          2914,
          2914
         ],
         "yaxis": "y"
        },
        {
         "fillpattern": {
          "shape": ""
         },
         "hovertemplate": "unit=VAN2<br>hour=%{x}<br>energy=%{y}<extra></extra>",
         "legendgroup": "VAN2",
         "line": {
          "color": "#FECB52",
          "shape": "hv"
         },
         "marker": {
          "symbol": "circle"
         },
         "mode": "lines",
         "name": "VAN2",
         "orientation": "v",
         "showlegend": true,
         "stackgroup": "1",
         "type": "scatter",
         "x": [
          1,
          2,
          3,
          4,
          5,
          6,
          7,
          8,
          9,
          10,
          11,
          12,
          13,
          14,
          15,
          16,
          17,
          18,
          19,
          20,
          21,
          22,
          23,
          24
         ],
         "xaxis": "x",
         "y": [
          783,
          783,
          783,
          783,
          783,
          783,
          783,
          783,
          783,
          783,
          783,
          783,
          783,
          783,
          783,
          783,
          783,
          783,
          783,
          783,
          783,
          783,
          783,
          783
         ],
         "yaxis": "y"
        }
       ],
       "layout": {
        "height": 600,
        "hovermode": "x unified",
        "legend": {
         "title": {
          "text": "unit"
         },
         "tracegroupgap": 0
        },
        "margin": {
         "t": 60
        },
        "template": {
         "data": {
          "bar": [
           {
            "error_x": {
             "color": "#2a3f5f"
            },
            "error_y": {
             "color": "#2a3f5f"
            },
            "marker": {
             "line": {
              "color": "#E5ECF6",
              "width": 0.5
             },
             "pattern": {
              "fillmode": "overlay",
              "size": 10,
              "solidity": 0.2
             }
            },
            "type": "bar"
           }
          ],
          "barpolar": [
           {
            "marker": {
             "line": {
              "color": "#E5ECF6",
              "width": 0.5
             },
             "pattern": {
              "fillmode": "overlay",
              "size": 10,
              "solidity": 0.2
             }
            },
            "type": "barpolar"
           }
          ],
          "carpet": [
           {
            "aaxis": {
             "endlinecolor": "#2a3f5f",
             "gridcolor": "white",
             "linecolor": "white",
             "minorgridcolor": "white",
             "startlinecolor": "#2a3f5f"
            },
            "baxis": {
             "endlinecolor": "#2a3f5f",
             "gridcolor": "white",
             "linecolor": "white",
             "minorgridcolor": "white",
             "startlinecolor": "#2a3f5f"
            },
            "type": "carpet"
           }
          ],
          "choropleth": [
           {
            "colorbar": {
             "outlinewidth": 0,
             "ticks": ""
            },
            "type": "choropleth"
           }
          ],
          "contour": [
           {
            "colorbar": {
             "outlinewidth": 0,
             "ticks": ""
            },
            "colorscale": [
             [
              0,
              "#0d0887"
             ],
             [
              0.1111111111111111,
              "#46039f"
             ],
             [
              0.2222222222222222,
              "#7201a8"
             ],
             [
              0.3333333333333333,
              "#9c179e"
             ],
             [
              0.4444444444444444,
              "#bd3786"
             ],
             [
              0.5555555555555556,
              "#d8576b"
             ],
             [
              0.6666666666666666,
              "#ed7953"
             ],
             [
              0.7777777777777778,
              "#fb9f3a"
             ],
             [
              0.8888888888888888,
              "#fdca26"
             ],
             [
              1,
              "#f0f921"
             ]
            ],
            "type": "contour"
           }
          ],
          "contourcarpet": [
           {
            "colorbar": {
             "outlinewidth": 0,
             "ticks": ""
            },
            "type": "contourcarpet"
           }
          ],
          "heatmap": [
           {
            "colorbar": {
             "outlinewidth": 0,
             "ticks": ""
            },
            "colorscale": [
             [
              0,
              "#0d0887"
             ],
             [
              0.1111111111111111,
              "#46039f"
             ],
             [
              0.2222222222222222,
              "#7201a8"
             ],
             [
              0.3333333333333333,
              "#9c179e"
             ],
             [
              0.4444444444444444,
              "#bd3786"
             ],
             [
              0.5555555555555556,
              "#d8576b"
             ],
             [
              0.6666666666666666,
              "#ed7953"
             ],
             [
              0.7777777777777778,
              "#fb9f3a"
             ],
             [
              0.8888888888888888,
              "#fdca26"
             ],
             [
              1,
              "#f0f921"
             ]
            ],
            "type": "heatmap"
           }
          ],
          "heatmapgl": [
           {
            "colorbar": {
             "outlinewidth": 0,
             "ticks": ""
            },
            "colorscale": [
             [
              0,
              "#0d0887"
             ],
             [
              0.1111111111111111,
              "#46039f"
             ],
             [
              0.2222222222222222,
              "#7201a8"
             ],
             [
              0.3333333333333333,
              "#9c179e"
             ],
             [
              0.4444444444444444,
              "#bd3786"
             ],
             [
              0.5555555555555556,
              "#d8576b"
             ],
             [
              0.6666666666666666,
              "#ed7953"
             ],
             [
              0.7777777777777778,
              "#fb9f3a"
             ],
             [
              0.8888888888888888,
              "#fdca26"
             ],
             [
              1,
              "#f0f921"
             ]
            ],
            "type": "heatmapgl"
           }
          ],
          "histogram": [
           {
            "marker": {
             "pattern": {
              "fillmode": "overlay",
              "size": 10,
              "solidity": 0.2
             }
            },
            "type": "histogram"
           }
          ],
          "histogram2d": [
           {
            "colorbar": {
             "outlinewidth": 0,
             "ticks": ""
            },
            "colorscale": [
             [
              0,
              "#0d0887"
             ],
             [
              0.1111111111111111,
              "#46039f"
             ],
             [
              0.2222222222222222,
              "#7201a8"
             ],
             [
              0.3333333333333333,
              "#9c179e"
             ],
             [
              0.4444444444444444,
              "#bd3786"
             ],
             [
              0.5555555555555556,
              "#d8576b"
             ],
             [
              0.6666666666666666,
              "#ed7953"
             ],
             [
              0.7777777777777778,
              "#fb9f3a"
             ],
             [
              0.8888888888888888,
              "#fdca26"
             ],
             [
              1,
              "#f0f921"
             ]
            ],
            "type": "histogram2d"
           }
          ],
          "histogram2dcontour": [
           {
            "colorbar": {
             "outlinewidth": 0,
             "ticks": ""
            },
            "colorscale": [
             [
              0,
              "#0d0887"
             ],
             [
              0.1111111111111111,
              "#46039f"
             ],
             [
              0.2222222222222222,
              "#7201a8"
             ],
             [
              0.3333333333333333,
              "#9c179e"
             ],
             [
              0.4444444444444444,
              "#bd3786"
             ],
             [
              0.5555555555555556,
              "#d8576b"
             ],
             [
              0.6666666666666666,
              "#ed7953"
             ],
             [
              0.7777777777777778,
              "#fb9f3a"
             ],
             [
              0.8888888888888888,
              "#fdca26"
             ],
             [
              1,
              "#f0f921"
             ]
            ],
            "type": "histogram2dcontour"
           }
          ],
          "mesh3d": [
           {
            "colorbar": {
             "outlinewidth": 0,
             "ticks": ""
            },
            "type": "mesh3d"
           }
          ],
          "parcoords": [
           {
            "line": {
             "colorbar": {
              "outlinewidth": 0,
              "ticks": ""
             }
            },
            "type": "parcoords"
           }
          ],
          "pie": [
           {
            "automargin": true,
            "type": "pie"
           }
          ],
          "scatter": [
           {
            "fillpattern": {
             "fillmode": "overlay",
             "size": 10,
             "solidity": 0.2
            },
            "type": "scatter"
           }
          ],
          "scatter3d": [
           {
            "line": {
             "colorbar": {
              "outlinewidth": 0,
              "ticks": ""
             }
            },
            "marker": {
             "colorbar": {
              "outlinewidth": 0,
              "ticks": ""
             }
            },
            "type": "scatter3d"
           }
          ],
          "scattercarpet": [
           {
            "marker": {
             "colorbar": {
              "outlinewidth": 0,
              "ticks": ""
             }
            },
            "type": "scattercarpet"
           }
          ],
          "scattergeo": [
           {
            "marker": {
             "colorbar": {
              "outlinewidth": 0,
              "ticks": ""
             }
            },
            "type": "scattergeo"
           }
          ],
          "scattergl": [
           {
            "marker": {
             "colorbar": {
              "outlinewidth": 0,
              "ticks": ""
             }
            },
            "type": "scattergl"
           }
          ],
          "scattermapbox": [
           {
            "marker": {
             "colorbar": {
              "outlinewidth": 0,
              "ticks": ""
             }
            },
            "type": "scattermapbox"
           }
          ],
          "scatterpolar": [
           {
            "marker": {
             "colorbar": {
              "outlinewidth": 0,
              "ticks": ""
             }
            },
            "type": "scatterpolar"
           }
          ],
          "scatterpolargl": [
           {
            "marker": {
             "colorbar": {
              "outlinewidth": 0,
              "ticks": ""
             }
            },
            "type": "scatterpolargl"
           }
          ],
          "scatterternary": [
           {
            "marker": {
             "colorbar": {
              "outlinewidth": 0,
              "ticks": ""
             }
            },
            "type": "scatterternary"
           }
          ],
          "surface": [
           {
            "colorbar": {
             "outlinewidth": 0,
             "ticks": ""
            },
            "colorscale": [
             [
              0,
              "#0d0887"
             ],
             [
              0.1111111111111111,
              "#46039f"
             ],
             [
              0.2222222222222222,
              "#7201a8"
             ],
             [
              0.3333333333333333,
              "#9c179e"
             ],
             [
              0.4444444444444444,
              "#bd3786"
             ],
             [
              0.5555555555555556,
              "#d8576b"
             ],
             [
              0.6666666666666666,
              "#ed7953"
             ],
             [
              0.7777777777777778,
              "#fb9f3a"
             ],
             [
              0.8888888888888888,
              "#fdca26"
             ],
             [
              1,
              "#f0f921"
             ]
            ],
            "type": "surface"
           }
          ],
          "table": [
           {
            "cells": {
             "fill": {
              "color": "#EBF0F8"
             },
             "line": {
              "color": "white"
             }
            },
            "header": {
             "fill": {
              "color": "#C8D4E3"
             },
             "line": {
              "color": "white"
             }
            },
            "type": "table"
           }
          ]
         },
         "layout": {
          "annotationdefaults": {
           "arrowcolor": "#2a3f5f",
           "arrowhead": 0,
           "arrowwidth": 1
          },
          "autotypenumbers": "strict",
          "coloraxis": {
           "colorbar": {
            "outlinewidth": 0,
            "ticks": ""
           }
          },
          "colorscale": {
           "diverging": [
            [
             0,
             "#8e0152"
            ],
            [
             0.1,
             "#c51b7d"
            ],
            [
             0.2,
             "#de77ae"
            ],
            [
             0.3,
             "#f1b6da"
            ],
            [
             0.4,
             "#fde0ef"
            ],
            [
             0.5,
             "#f7f7f7"
            ],
            [
             0.6,
             "#e6f5d0"
            ],
            [
             0.7,
             "#b8e186"
            ],
            [
             0.8,
             "#7fbc41"
            ],
            [
             0.9,
             "#4d9221"
            ],
            [
             1,
             "#276419"
            ]
           ],
           "sequential": [
            [
             0,
             "#0d0887"
            ],
            [
             0.1111111111111111,
             "#46039f"
            ],
            [
             0.2222222222222222,
             "#7201a8"
            ],
            [
             0.3333333333333333,
             "#9c179e"
            ],
            [
             0.4444444444444444,
             "#bd3786"
            ],
            [
             0.5555555555555556,
             "#d8576b"
            ],
            [
             0.6666666666666666,
             "#ed7953"
            ],
            [
             0.7777777777777778,
             "#fb9f3a"
            ],
            [
             0.8888888888888888,
             "#fdca26"
            ],
            [
             1,
             "#f0f921"
            ]
           ],
           "sequentialminus": [
            [
             0,
             "#0d0887"
            ],
            [
             0.1111111111111111,
             "#46039f"
            ],
            [
             0.2222222222222222,
             "#7201a8"
            ],
            [
             0.3333333333333333,
             "#9c179e"
            ],
            [
             0.4444444444444444,
             "#bd3786"
            ],
            [
             0.5555555555555556,
             "#d8576b"
            ],
            [
             0.6666666666666666,
             "#ed7953"
            ],
            [
             0.7777777777777778,
             "#fb9f3a"
            ],
            [
             0.8888888888888888,
             "#fdca26"
            ],
            [
             1,
             "#f0f921"
            ]
           ]
          },
          "colorway": [
           "#636efa",
           "#EF553B",
           "#00cc96",
           "#ab63fa",
           "#FFA15A",
           "#19d3f3",
           "#FF6692",
           "#B6E880",
           "#FF97FF",
           "#FECB52"
          ],
          "font": {
           "color": "#2a3f5f"
          },
          "geo": {
           "bgcolor": "white",
           "lakecolor": "white",
           "landcolor": "#E5ECF6",
           "showlakes": true,
           "showland": true,
           "subunitcolor": "white"
          },
          "hoverlabel": {
           "align": "left"
          },
          "hovermode": "closest",
          "mapbox": {
           "style": "light"
          },
          "paper_bgcolor": "white",
          "plot_bgcolor": "#E5ECF6",
          "polar": {
           "angularaxis": {
            "gridcolor": "white",
            "linecolor": "white",
            "ticks": ""
           },
           "bgcolor": "#E5ECF6",
           "radialaxis": {
            "gridcolor": "white",
            "linecolor": "white",
            "ticks": ""
           }
          },
          "scene": {
           "xaxis": {
            "backgroundcolor": "#E5ECF6",
            "gridcolor": "white",
            "gridwidth": 2,
            "linecolor": "white",
            "showbackground": true,
            "ticks": "",
            "zerolinecolor": "white"
           },
           "yaxis": {
            "backgroundcolor": "#E5ECF6",
            "gridcolor": "white",
            "gridwidth": 2,
            "linecolor": "white",
            "showbackground": true,
            "ticks": "",
            "zerolinecolor": "white"
           },
           "zaxis": {
            "backgroundcolor": "#E5ECF6",
            "gridcolor": "white",
            "gridwidth": 2,
            "linecolor": "white",
            "showbackground": true,
            "ticks": "",
            "zerolinecolor": "white"
           }
          },
          "shapedefaults": {
           "line": {
            "color": "#2a3f5f"
           }
          },
          "ternary": {
           "aaxis": {
            "gridcolor": "white",
            "linecolor": "white",
            "ticks": ""
           },
           "baxis": {
            "gridcolor": "white",
            "linecolor": "white",
            "ticks": ""
           },
           "bgcolor": "#E5ECF6",
           "caxis": {
            "gridcolor": "white",
            "linecolor": "white",
            "ticks": ""
           }
          },
          "title": {
           "x": 0.05
          },
          "xaxis": {
           "automargin": true,
           "gridcolor": "white",
           "linecolor": "white",
           "ticks": "",
           "title": {
            "standoff": 15
           },
           "zerolinecolor": "white",
           "zerolinewidth": 2
          },
          "yaxis": {
           "automargin": true,
           "gridcolor": "white",
           "linecolor": "white",
           "ticks": "",
           "title": {
            "standoff": 15
           },
           "zerolinecolor": "white",
           "zerolinewidth": 2
          }
         }
        },
        "width": 1000,
        "xaxis": {
         "anchor": "y",
         "domain": [
          0,
          1
         ],
         "title": {
          "text": "hour"
         }
        },
        "yaxis": {
         "anchor": "x",
         "domain": [
          0,
          1
         ],
         "title": {
          "text": "energy"
         }
        }
       }
      }
     },
     "metadata": {},
     "output_type": "display_data"
    }
   ],
   "source": [
    "fig = px.area(df_result, x='hour', y='energy', color='unit', line_shape='hv', width=1000, height=600)\n",
    "fig.update_layout(hovermode='x unified')"
   ]
  },
  {
   "cell_type": "code",
   "execution_count": 14,
   "metadata": {},
   "outputs": [],
   "source": [
    "fig.write_image('top10_units_by_hour.png')"
   ]
  }
 ],
 "metadata": {
  "kernelspec": {
   "display_name": "work",
   "language": "python",
   "name": "python3"
  },
  "language_info": {
   "codemirror_mode": {
    "name": "ipython",
    "version": 3
   },
   "file_extension": ".py",
   "mimetype": "text/x-python",
   "name": "python",
   "nbconvert_exporter": "python",
   "pygments_lexer": "ipython3",
   "version": "3.13.1"
  }
 },
 "nbformat": 4,
 "nbformat_minor": 2
}
